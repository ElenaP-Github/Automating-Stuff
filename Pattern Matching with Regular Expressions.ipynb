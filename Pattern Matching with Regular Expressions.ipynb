{
 "cells": [
  {
   "cell_type": "markdown",
   "metadata": {},
   "source": [
    "## Finding Patterns of Text Without Regular Expressions"
   ]
  },
  {
   "cell_type": "code",
   "execution_count": null,
   "metadata": {},
   "outputs": [],
   "source": [
    "def isPhoneNumber(text):\n",
    "    if len (text)!=12:#the code checks that the string is exactly 12 characters\n",
    "        return False\n",
    "    for i in range (0,3):#it checks that the area code (that is, the first three characters in text) consists of only numeric characters\n",
    "        if not text[i].isdecimal():\n",
    "            return False\n",
    "    if text [3]!=\"-\": #The number must have the first hyphen after the area code\n",
    "        return False\n",
    "    for i in range(4,7): #three more numeric characters\n",
    "        if not text[i].isdecimal():\n",
    "            return False\n",
    "    if text[7]!=\"-\":# another hyphen\n",
    "        return False\n",
    "    for i in range (8,12): #finally four more numbers\n",
    "        if not text[i].isdecimal():\n",
    "            return False\n",
    "    return True\n",
    "print('415-555-4242 is a phone number:')\n",
    "print(isPhoneNumber('415-555-4242'))\n",
    "print('Moshi moshi is a phone number:')\n",
    "print(isPhoneNumber('Moshi moshi'))\n",
    "\n",
    "\n",
    "message= \"call me at 415-555-1011 tomorrow. 415-555-9999 is my office\"\n",
    "for i in range (len (message)):\n",
    "    chunk= message[i:i+12]\n",
    "    if isPhoneNumber(chunk):\n",
    "        print(f\"Phone number found {chunk}\")\n",
    "print(\"Done\")\n",
    "\n",
    "\n",
    "#On each iteration of the for loop, a new chunk of 12 characters from\n",
    "#message is assigned to the variable chunk. For example, on the first iteration,\n",
    "#i is 0, and chunk is assigned message[0:12] (that is, the string 'Call me at 4').\n",
    "#On the next iteration, i is 1, and chunk is assigned message[1:13] (the string\n",
    "#'all me at 41').\n",
    "\n",
    "#You pass chunk to isPhoneNumber() to see whether it matches the phone\n",
    "#number pattern v, and if so, you print the chunk.\n",
    "#Continue to loop through message, and eventually the 12 characters\n",
    "#in chunk will be a phone number. The loop goes through the entire string,\n",
    "#testing each 12-character piece and printing any chunk it finds that satisfies\n",
    "#isPhoneNumber(). Once we’re done going through message, we print Done."
   ]
  },
  {
   "cell_type": "markdown",
   "metadata": {},
   "source": [
    "## Finding Patterns of Text With Regular Expressions"
   ]
  },
  {
   "cell_type": "code",
   "execution_count": null,
   "metadata": {},
   "outputs": [],
   "source": [
    "import re\n",
    "phoneNumRegex = re.compile(r'\\d\\d\\d-\\d\\d\\d-\\d\\d\\d\\d')\n",
    "mo= phoneNumRegex.search(\"My number is 415-555-4242\")\n",
    "print(f\"Phone number found {mo.group()}\")\n",
    "\n"
   ]
  },
  {
   "cell_type": "code",
   "execution_count": null,
   "metadata": {},
   "outputs": [],
   "source": [
    "heroRegex=re.compile(r\"Batman|Tina Fey\")\n",
    "mo1=heroRegex.search(\"Batman and Tina Fey\")\n",
    "mo1.group()\n",
    "\n",
    "mo2=heroRegex.search(\"Tina Fey and Batman\")\n",
    "mo2.group()"
   ]
  },
  {
   "cell_type": "code",
   "execution_count": null,
   "metadata": {},
   "outputs": [],
   "source": [
    "batRegex= re.compile(r\"Bat(man|mobile|copter|bat)\")\n",
    "mo=batRegex.search(\"Batmobile lost a wheel\")\n",
    "mo.group()\n",
    "mo.group(1)"
   ]
  },
  {
   "cell_type": "code",
   "execution_count": null,
   "metadata": {},
   "outputs": [],
   "source": [
    "batRegex= re.compile (r\"Bat(wo)?man\")\n",
    "mo1=batRegex.search(\"The adventures of Batman\")\n",
    "mo1.group()\n",
    "\n",
    "mo2=batRegex.search(\"The adventures of Batwoman\")\n",
    "mo2.group()"
   ]
  },
  {
   "cell_type": "code",
   "execution_count": 10,
   "metadata": {},
   "outputs": [
    {
     "data": {
      "text/plain": [
       "'Batwowowowoman'"
      ]
     },
     "execution_count": 10,
     "metadata": {},
     "output_type": "execute_result"
    }
   ],
   "source": [
    "batRegex= re.compile (r\"Bat(wo)*man\")\n",
    "mo1=batRegex.search(\"The adventures of Batman\")\n",
    "mo1.group()\n",
    "\n",
    "mo3=batRegex.search(\"The adventures of Batwowowowoman\")\n",
    "mo3.group()"
   ]
  },
  {
   "cell_type": "code",
   "execution_count": 11,
   "metadata": {},
   "outputs": [
    {
     "data": {
      "text/plain": [
       "'Batwowowowoman'"
      ]
     },
     "execution_count": 11,
     "metadata": {},
     "output_type": "execute_result"
    }
   ],
   "source": [
    "batRegex = re.compile(r'Bat(wo)+man')\n",
    "\n",
    "mo2 = batRegex.search('The Adventures of Batwowowowoman')\n",
    "mo2.group()"
   ]
  },
  {
   "cell_type": "code",
   "execution_count": 8,
   "metadata": {},
   "outputs": [
    {
     "data": {
      "text/plain": [
       "'HaHaHa'"
      ]
     },
     "execution_count": 8,
     "metadata": {},
     "output_type": "execute_result"
    }
   ],
   "source": [
    "import re\n",
    "haRegex=re.compile(r\"(Ha){3}\")\n",
    "mo1=haRegex.search(\"HaHaHa\")\n",
    "mo1.group()"
   ]
  },
  {
   "cell_type": "code",
   "execution_count": 13,
   "metadata": {},
   "outputs": [
    {
     "name": "stdout",
     "output_type": "stream",
     "text": [
      "HaHaHaHaHa\n",
      "HaHaHa\n"
     ]
    }
   ],
   "source": [
    "import re\n",
    "haRegex=re.compile(r\"(Ha){3,5}\")#greedy by default, which means that in ambiguous situations they will match the longest string possible.\n",
    "mo1=haRegex.search(\"HaHaHaHaHa\")\n",
    "print(mo1.group())\n",
    "\n",
    "haRegex=re.compile(r\"(Ha){3,5}?\")#nongreedy version of the curly brackets, which matches the shortest string possible, has the closing curly bracket followed by a question mark.\n",
    "mo2=haRegex.search(\"HaHaHaHaHa\")\n",
    "print(mo2.group())\n",
    "\n"
   ]
  }
 ],
 "metadata": {
  "kernelspec": {
   "display_name": "Anaconda3",
   "language": "python",
   "name": "anaconda3"
  },
  "language_info": {
   "codemirror_mode": {
    "name": "ipython",
    "version": 3
   },
   "file_extension": ".py",
   "mimetype": "text/x-python",
   "name": "python",
   "nbconvert_exporter": "python",
   "pygments_lexer": "ipython3",
   "version": "3.7.4"
  }
 },
 "nbformat": 4,
 "nbformat_minor": 2
}
