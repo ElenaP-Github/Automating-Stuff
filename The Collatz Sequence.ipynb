{
 "cells": [
  {
   "cell_type": "code",
   "execution_count": 16,
   "metadata": {},
   "outputs": [
    {
     "name": "stdout",
     "output_type": "stream",
     "text": [
      "Enter a number: \n",
      "1\n"
     ]
    }
   ],
   "source": [
    "import sys\n",
    "\n",
    "def collatz(number):\n",
    "    if (number % 2) == 0:\n",
    "        res= number//2\n",
    "        return res\n",
    "    elif (number % 2) == 1:1\n",
    "        res= 3** number +1\n",
    "        return res\n",
    "\n",
    "    while res == 1:            # It would not print the number 1 without this loop\n",
    "        print(res)\n",
    "        sys.exit()                # So 1 is not printed forever.\n",
    "\n",
    "    while res != 1:            # Goes through this loop until the condition in the previous one is True.\n",
    "        print(res)\n",
    "        number = res           # This makes it so collatz() is called with the number it has previously evaluated down to.\n",
    "        return collatz(number)    \n",
    "\n",
    "print('Enter a number: ')         # Program starts here!\n",
    "try:\n",
    "    number = int(input())         # ERROR! if a text string or float is input.\n",
    "    collatz(number)\n",
    "except ValueError:\n",
    "    print('You must enter an integer type.')\n"
   ]
  }
 ],
 "metadata": {
  "kernelspec": {
   "display_name": "Anaconda3",
   "language": "python",
   "name": "anaconda3"
  },
  "language_info": {
   "codemirror_mode": {
    "name": "ipython",
    "version": 3
   },
   "file_extension": ".py",
   "mimetype": "text/x-python",
   "name": "python",
   "nbconvert_exporter": "python",
   "pygments_lexer": "ipython3",
   "version": "3.7.4"
  }
 },
 "nbformat": 4,
 "nbformat_minor": 2
}
