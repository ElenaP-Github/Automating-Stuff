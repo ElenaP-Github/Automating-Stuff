{
 "cells": [
  {
   "cell_type": "code",
   "execution_count": 6,
   "metadata": {},
   "outputs": [
    {
     "data": {
      "text/plain": [
       "[0, 1]"
      ]
     },
     "execution_count": 6,
     "metadata": {},
     "output_type": "execute_result"
    }
   ],
   "source": [
    "def twoSum(self, nums, target):\n",
    "        for i, num in enumerate(nums):## \n",
    "            for j in range(i+1, len(nums)):\n",
    "                if num + nums[j] == target:\n",
    "                    return [i, j]      \n",
    "\n",
    "#nums = [3,2,4]\n",
    "#target=6\n",
    "\n",
    "twoSum(twoSum,[1,4,2], 5)\n",
    "\n",
    "## enumerate() toma como argumento un objeto iterable it y \n",
    "#retorna otro cuyos elementos son tuplas de dos objetos, \n",
    "#el primero de los cuales indica la posición de un elemento perteneciente\n",
    "#a it y el segundo, el elemento mismo.\n"
   ]
  },
  {
   "cell_type": "code",
   "execution_count": null,
   "metadata": {},
   "outputs": [],
   "source": []
  }
 ],
 "metadata": {
  "kernelspec": {
   "display_name": "Anaconda3",
   "language": "python",
   "name": "anaconda3"
  },
  "language_info": {
   "codemirror_mode": {
    "name": "ipython",
    "version": 3
   },
   "file_extension": ".py",
   "mimetype": "text/x-python",
   "name": "python",
   "nbconvert_exporter": "python",
   "pygments_lexer": "ipython3",
   "version": "3.7.4"
  }
 },
 "nbformat": 4,
 "nbformat_minor": 2
}
